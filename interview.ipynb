{
 "cells": [
  {
   "cell_type": "code",
   "execution_count": null,
   "id": "1b1d0999",
   "metadata": {},
   "outputs": [],
   "source": []
  },
  {
   "cell_type": "code",
   "execution_count": 20,
   "id": "1b4098ab",
   "metadata": {},
   "outputs": [
    {
     "data": {
      "text/plain": [
       "'em si siht'"
      ]
     },
     "execution_count": 20,
     "metadata": {},
     "output_type": "execute_result"
    }
   ],
   "source": [
    "def reverse(s):\n",
    "    if type(s) is str:\n",
    "        r=\"\"\n",
    "        for i in range(len(s)-1,-1,-1):\n",
    "            r=r+s[i]\n",
    "        return r\n",
    "    else:\n",
    "        return \"please provide a string\"\n",
    "reverse(\"this is me\")\n"
   ]
  },
  {
   "cell_type": "code",
   "execution_count": 19,
   "id": "60c5d652",
   "metadata": {},
   "outputs": [
    {
     "data": {
      "text/plain": [
       "True"
      ]
     },
     "execution_count": 19,
     "metadata": {},
     "output_type": "execute_result"
    }
   ],
   "source": [
    "def palindrome(s):\n",
    "    if type(s) is str:\n",
    "        r=\"\"\n",
    "        for i in range(len(s)-1,-1,-1):\n",
    "            r=r+s[i]\n",
    "        if(s==r):\n",
    "            return True\n",
    "        else:\n",
    "            return False\n",
    "    else:\n",
    "        return \"enter a string\"\n",
    "palindrome(\"madam\")\n",
    "#palindrome(\"hello\")"
   ]
  },
  {
   "cell_type": "code",
   "execution_count": 21,
   "id": "dce4244c",
   "metadata": {},
   "outputs": [
    {
     "name": "stdout",
     "output_type": "stream",
     "text": [
      "87\n"
     ]
    }
   ],
   "source": [
    "def max_list(l):\n",
    "    if type(l) is list:\n",
    "        m=l[0]\n",
    "        for i in l:\n",
    "            if type(i) is not str and (i>m):\n",
    "                m=i\n",
    "        return m\n",
    "        \n",
    "    else:\n",
    "        return\"please provide a string\"\n",
    "print(max_list([8,66,42,9,0,27,3,87,1]))"
   ]
  },
  {
   "cell_type": "code",
   "execution_count": null,
   "id": "e550017c",
   "metadata": {},
   "outputs": [],
   "source": []
  }
 ],
 "metadata": {
  "kernelspec": {
   "display_name": "Python 3",
   "language": "python",
   "name": "python3"
  },
  "language_info": {
   "codemirror_mode": {
    "name": "ipython",
    "version": 3
   },
   "file_extension": ".py",
   "mimetype": "text/x-python",
   "name": "python",
   "nbconvert_exporter": "python",
   "pygments_lexer": "ipython3",
   "version": "3.8.8"
  }
 },
 "nbformat": 4,
 "nbformat_minor": 5
}
